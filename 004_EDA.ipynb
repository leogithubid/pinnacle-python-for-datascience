{
 "cells": [
  {
   "cell_type": "code",
   "execution_count": 4,
   "id": "741d4409",
   "metadata": {},
   "outputs": [],
   "source": [
    "import numpy as np\n",
    "import pandas as pd"
   ]
  },
  {
   "cell_type": "code",
   "execution_count": 5,
   "id": "9b1d1642",
   "metadata": {},
   "outputs": [
    {
     "data": {
      "text/plain": [
       "(3, 3)"
      ]
     },
     "execution_count": 5,
     "metadata": {},
     "output_type": "execute_result"
    }
   ],
   "source": [
    "CustomerID=np.arange(1,7)\n",
    "Product=np.array(['Toaster','Toaster','Toaster','Radio','Radio','Radio'])\n",
    "df1 = pd.DataFrame({'CustomerID':CustomerID, 'Product':Product})\n",
    "CustomerID=np.array([2,4,6])\n",
    "State=np.array(['Alabama','Alabama','Ohio'])\n",
    "df2 = pd.DataFrame({'CustomerID':CustomerID, 'State':State})\n",
    "df = pd.merge(df1,df2)\n",
    "df.shape"
   ]
  },
  {
   "cell_type": "code",
   "execution_count": 7,
   "id": "63161399",
   "metadata": {},
   "outputs": [
    {
     "name": "stdout",
     "output_type": "stream",
     "text": [
      "   CustomerID  Product    State\n",
      "0           2  Toaster  Alabama\n",
      "1           4    Radio  Alabama\n",
      "2           6    Radio     Ohio\n"
     ]
    }
   ],
   "source": [
    "print(df)"
   ]
  },
  {
   "cell_type": "code",
   "execution_count": 8,
   "id": "8879dd2a",
   "metadata": {},
   "outputs": [
    {
     "data": {
      "text/html": [
       "<div>\n",
       "<style scoped>\n",
       "    .dataframe tbody tr th:only-of-type {\n",
       "        vertical-align: middle;\n",
       "    }\n",
       "\n",
       "    .dataframe tbody tr th {\n",
       "        vertical-align: top;\n",
       "    }\n",
       "\n",
       "    .dataframe thead th {\n",
       "        text-align: right;\n",
       "    }\n",
       "</style>\n",
       "<table border=\"1\" class=\"dataframe\">\n",
       "  <thead>\n",
       "    <tr style=\"text-align: right;\">\n",
       "      <th></th>\n",
       "      <th>CustomerID</th>\n",
       "    </tr>\n",
       "  </thead>\n",
       "  <tbody>\n",
       "    <tr>\n",
       "      <th>count</th>\n",
       "      <td>3.0</td>\n",
       "    </tr>\n",
       "    <tr>\n",
       "      <th>mean</th>\n",
       "      <td>4.0</td>\n",
       "    </tr>\n",
       "    <tr>\n",
       "      <th>std</th>\n",
       "      <td>2.0</td>\n",
       "    </tr>\n",
       "    <tr>\n",
       "      <th>min</th>\n",
       "      <td>2.0</td>\n",
       "    </tr>\n",
       "    <tr>\n",
       "      <th>25%</th>\n",
       "      <td>3.0</td>\n",
       "    </tr>\n",
       "    <tr>\n",
       "      <th>50%</th>\n",
       "      <td>4.0</td>\n",
       "    </tr>\n",
       "    <tr>\n",
       "      <th>75%</th>\n",
       "      <td>5.0</td>\n",
       "    </tr>\n",
       "    <tr>\n",
       "      <th>max</th>\n",
       "      <td>6.0</td>\n",
       "    </tr>\n",
       "  </tbody>\n",
       "</table>\n",
       "</div>"
      ],
      "text/plain": [
       "       CustomerID\n",
       "count         3.0\n",
       "mean          4.0\n",
       "std           2.0\n",
       "min           2.0\n",
       "25%           3.0\n",
       "50%           4.0\n",
       "75%           5.0\n",
       "max           6.0"
      ]
     },
     "execution_count": 8,
     "metadata": {},
     "output_type": "execute_result"
    }
   ],
   "source": [
    "df.describe()"
   ]
  },
  {
   "cell_type": "code",
   "execution_count": 16,
   "id": "b6cf1ac9",
   "metadata": {},
   "outputs": [
    {
     "data": {
      "text/html": [
       "<div>\n",
       "<style scoped>\n",
       "    .dataframe tbody tr th:only-of-type {\n",
       "        vertical-align: middle;\n",
       "    }\n",
       "\n",
       "    .dataframe tbody tr th {\n",
       "        vertical-align: top;\n",
       "    }\n",
       "\n",
       "    .dataframe thead th {\n",
       "        text-align: right;\n",
       "    }\n",
       "</style>\n",
       "<table border=\"1\" class=\"dataframe\">\n",
       "  <thead>\n",
       "    <tr style=\"text-align: right;\">\n",
       "      <th></th>\n",
       "      <th>CustomerID</th>\n",
       "    </tr>\n",
       "    <tr>\n",
       "      <th>State</th>\n",
       "      <th></th>\n",
       "    </tr>\n",
       "  </thead>\n",
       "  <tbody>\n",
       "    <tr>\n",
       "      <th>Alabama</th>\n",
       "      <td>3</td>\n",
       "    </tr>\n",
       "    <tr>\n",
       "      <th>Ohio</th>\n",
       "      <td>6</td>\n",
       "    </tr>\n",
       "  </tbody>\n",
       "</table>\n",
       "</div>"
      ],
      "text/plain": [
       "         CustomerID\n",
       "State              \n",
       "Alabama           3\n",
       "Ohio              6"
      ]
     },
     "execution_count": 16,
     "metadata": {},
     "output_type": "execute_result"
    }
   ],
   "source": [
    "df.groupby(\"State\").mean()"
   ]
  },
  {
   "cell_type": "code",
   "execution_count": 32,
   "id": "b684e8fc",
   "metadata": {},
   "outputs": [
    {
     "data": {
      "text/plain": [
       "2"
      ]
     },
     "execution_count": 32,
     "metadata": {},
     "output_type": "execute_result"
    }
   ],
   "source": [
    "pd.crosstab(index = df[\"Product\"], columns = \"Count\",colnames = ['']).iloc[0,0]"
   ]
  },
  {
   "cell_type": "markdown",
   "id": "1f2fb9dc",
   "metadata": {},
   "source": [
    "Q1 of 14\n",
    "Which of the following is/are correct way(s) of detecting outliers in a dataset? \n",
    "\n",
    "Values that are 1.5 IQR times lesser than the 1st quartile\n",
    "Values that are 1.5 IQR times greater than the 3rd quartile\n",
    "Values that are 2 times greater or lesser than the median \n",
    "**1 and 2**\n",
    "Only 1\n",
    "Only 2\n",
    "Only 3\n",
    "1, 2 and 3\n",
    "Q2 of 14\n",
    "Which of the following represents the relation between a quantitative and a categorical attribute?\n",
    "\n",
    "Two dimensional box plot\n",
    "Scatter plot\n",
    "**Histogram**\n",
    "Pie chart\n",
    "Q3 of 14\n",
    "Which of the following statement is true?\n",
    "\n",
    "Outliers should always be replaced by the mean value of the attribute\n",
    "**For a right skewed data mean is greater than median.**\n",
    "A normalized vertical box plot has no outliers\n",
    "Outliers should always be replaced by the median value of the attribute\n",
    "Q4 of 14\n",
    "To visualize growth in population of a country over time, which of the following graph will be the most suitable?\n",
    "\n",
    "**Line chart**\n",
    "Bar graph\n",
    "Histogram\n",
    "Pie chart\n",
    "Q5 of 14\n",
    "Consider the following iris_df dataframe from iris dataset\n",
    "\n",
    "\n",
    "\n",
    "Which of the following commands will return the mean of all the  numerical columns with respect to their Species?\n",
    "\n",
    "iris_df[“Species”].describe()\n",
    "iris_df[“Species”].mean()\n",
    "map(mean,iris_df[“Species”])\n",
    "**iris_df.groupby(\"Species\").mean()**\n",
    "iris_df.iloc[:,:4].groupby(\"Species\").mean()\n",
    "Q6 of 14\n",
    "Which of the following is shown when the describe method of the dataframe is invoked?\n",
    "\n",
    "Mode\n",
    "Variance\n",
    "**Count of unique values**\n",
    "Median\n",
    "Q7 of 14\n",
    "Which of the following is/are performed as part of data cleaning?\n",
    "\n",
    "Removing outliers\n",
    "Filling missing values\n",
    "Removing missing values\n",
    "Changing column names\n",
    "**All of the given options**\n",
    "Q8 of 14\n",
    "Consider the below dataframes shopping_items_df  and shopping_prices_df respectively\n",
    "\n",
    " \n",
    "\n",
    "Which of the following options give the below shown output between Prices and Items?\n",
    "\n",
    "\n",
    "\n",
    "new_df = pd.merge(shopping_items_df,shopping_prices_df, on=\"Id\" )\n",
    "new_df.plot.bar(x='Items',y=\"Prices\")\n",
    "new_df = shopping_items_df.merge(shopping_prices_df, on=\"Id\" )\n",
    "new_df.barplot(x='Items',y=\"Prices\") \n",
    "new_df = shopping_prices_df.merge(shopping_items_df, on=\"Id\" )\n",
    "new_df.plot (x='Items',y=\"Prices\",kind=”bar”) \n",
    "new_df = shopping_items_df.merge(shopping_prices_df, on=\"Id\" )\n",
    "new_df[[\"Id\",\"Prices\"]].plot()\n",
    " \n",
    "\n",
    "**1 and 3**\n",
    "2 and 3\n",
    "3 and 4\n",
    "1 and 4\n",
    "Q9 of 14\n",
    "Below is the data frame containing the data points about the applicants for a job. The data frame is named application_df. Which of the following option helps to sort the application_df by Marks_Secured?\n",
    "\n",
    "\n",
    "\n",
    "sort(application_df).by(\"Mark_Secured\")\n",
    "application_df.sort(by=\"Mark_Secured\")\n",
    "**application_df.sort_values(by=\"Mark_Secured\")**\n",
    "sorted(application_df)\n",
    "Q10 of 14\n",
    "Study the below employee_df dataframe\n",
    "\n",
    "\n",
    "\n",
    "Which of the following statements gives the output as shown below?\n",
    "\n",
    "\n",
    "\n",
    " \n",
    "\n",
    "**employee_df.isna()**\n",
    "employee_df.isNAN()\n",
    "employee_df[employee_df != np.Null]\n",
    "employee_df[employee_df!=None]\n",
    "Q11 of 14\n",
    "Consider the below code. What will be dimensions of df?\n",
    "\n",
    "CustomerID=np.arange(1,7)\n",
    "Product=np.array(['Toaster','Toaster','Toaster','Radio','Radio','Radio'])\n",
    "df1 = pd.DataFrame({'CustomerID':CustomerID, 'Product':Product})\n",
    "CustomerID=np.array([2,4,6])\n",
    "State=np.array(['Alabama','Alabama','Ohio'])\n",
    "df2 = pd.DataFrame({'CustomerID':CustomerID, 'State':State})\n",
    "df = pd.merge(df1,df2)\n",
    "df.shape\n",
    "3 Rows and 2 Columns\n",
    "**3 Rows and 3 Columns**\n",
    "6 Rows and 2 Columns\n",
    "6 Rows and 3 Columns\n",
    "Q12 of 14\n",
    "Which of the following options helps to convert categorical data to numerical data on the application_df dataframe given below?\n",
    "\n",
    "\n",
    "\n",
    "**pd.get_dummies(application_df)**\n",
    "application_df.one_hot_encoding()\n",
    "application_df.get_dummies()\n",
    "application_df.to_numerical()\n",
    "Q13 of 14\n",
    "Which of the following options best describes Exploratory Data Analysis?\n",
    "\n",
    "Increase the number of features\n",
    "Creating new data\n",
    "**Finding patterns, Detect and remove anamolies**\n",
    "Increase the number of datapoints\n",
    "Q14 of 14\n",
    "Given the below dataframe application_df\n",
    "\n",
    "\n",
    "\n",
    "What is the output of the following code?\n",
    "\n",
    "pd.crosstab(index = application_df[\"Percentage\"], columns = \"Count\",colnames = ['']).iloc[0,0]\n",
    "1\n",
    "**2**\n",
    "3\n",
    "Error"
   ]
  },
  {
   "cell_type": "code",
   "execution_count": null,
   "id": "2e1cc0cc",
   "metadata": {},
   "outputs": [],
   "source": []
  }
 ],
 "metadata": {
  "kernelspec": {
   "display_name": "Python 3",
   "language": "python",
   "name": "python3"
  },
  "language_info": {
   "codemirror_mode": {
    "name": "ipython",
    "version": 3
   },
   "file_extension": ".py",
   "mimetype": "text/x-python",
   "name": "python",
   "nbconvert_exporter": "python",
   "pygments_lexer": "ipython3",
   "version": "3.8.8"
  }
 },
 "nbformat": 4,
 "nbformat_minor": 5
}
