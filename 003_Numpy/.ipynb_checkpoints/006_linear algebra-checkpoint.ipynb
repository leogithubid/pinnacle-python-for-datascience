{
 "cells": [
  {
   "cell_type": "code",
   "execution_count": 1,
   "id": "2fb016a5",
   "metadata": {},
   "outputs": [],
   "source": [
    "import numpy as np"
   ]
  },
  {
   "cell_type": "code",
   "execution_count": 3,
   "id": "2409bc12",
   "metadata": {},
   "outputs": [],
   "source": [
    "A = np.array([[7,5,1],[2,3,3],[9,3,4]])"
   ]
  },
  {
   "cell_type": "code",
   "execution_count": 4,
   "id": "1928bda8",
   "metadata": {},
   "outputs": [
    {
     "data": {
      "text/plain": [
       "array([[7, 5, 1],\n",
       "       [2, 3, 3],\n",
       "       [9, 3, 4]])"
      ]
     },
     "execution_count": 4,
     "metadata": {},
     "output_type": "execute_result"
    }
   ],
   "source": [
    "A"
   ]
  },
  {
   "cell_type": "code",
   "execution_count": 5,
   "id": "1bb29277",
   "metadata": {},
   "outputs": [],
   "source": [
    "B = np.array([[77,55,11],[22,33,33],[99,33,44]])"
   ]
  },
  {
   "cell_type": "code",
   "execution_count": 6,
   "id": "c07045c8",
   "metadata": {},
   "outputs": [
    {
     "data": {
      "text/plain": [
       "array([[77, 55, 11],\n",
       "       [22, 33, 33],\n",
       "       [99, 33, 44]])"
      ]
     },
     "execution_count": 6,
     "metadata": {},
     "output_type": "execute_result"
    }
   ],
   "source": [
    "B"
   ]
  },
  {
   "cell_type": "code",
   "execution_count": 8,
   "id": "69bdd72a",
   "metadata": {},
   "outputs": [
    {
     "data": {
      "text/plain": [
       "array([[ 748,  583,  286],\n",
       "       [ 517,  308,  253],\n",
       "       [1155,  726,  374]])"
      ]
     },
     "execution_count": 8,
     "metadata": {},
     "output_type": "execute_result"
    }
   ],
   "source": [
    "np.dot(A,B)"
   ]
  },
  {
   "cell_type": "code",
   "execution_count": 9,
   "id": "2fb11123",
   "metadata": {},
   "outputs": [
    {
     "data": {
      "text/plain": [
       "95.0"
      ]
     },
     "execution_count": 9,
     "metadata": {},
     "output_type": "execute_result"
    }
   ],
   "source": [
    "np.linalg.det(A)"
   ]
  },
  {
   "cell_type": "code",
   "execution_count": 10,
   "id": "af05f8b2",
   "metadata": {},
   "outputs": [
    {
     "data": {
      "text/plain": [
       "126444.99999999993"
      ]
     },
     "execution_count": 10,
     "metadata": {},
     "output_type": "execute_result"
    }
   ],
   "source": [
    "np.linalg.det(B)"
   ]
  },
  {
   "cell_type": "code",
   "execution_count": 11,
   "id": "4e6beb28",
   "metadata": {},
   "outputs": [
    {
     "data": {
      "text/plain": [
       "(array([11.89743928+0.j        ,  1.05128036+2.62292225j,\n",
       "         1.05128036-2.62292225j]),\n",
       " array([[ 0.53746512+0.j        , -0.18744922+0.38979766j,\n",
       "         -0.18744922-0.38979766j],\n",
       "        [ 0.37541841+0.j        , -0.12038675-0.56209234j,\n",
       "         -0.12038675+0.56209234j],\n",
       "        [ 0.75511076+0.j        ,  0.69460766+0.j        ,\n",
       "          0.69460766-0.j        ]]))"
      ]
     },
     "execution_count": 11,
     "metadata": {},
     "output_type": "execute_result"
    }
   ],
   "source": [
    "np.linalg.eig(A)"
   ]
  },
  {
   "cell_type": "code",
   "execution_count": 12,
   "id": "e11fd74c",
   "metadata": {},
   "outputs": [
    {
     "data": {
      "text/plain": [
       "(array([130.8718321  +0.j        ,  11.56408395+28.85214475j,\n",
       "         11.56408395-28.85214475j]),\n",
       " array([[ 0.53746512+0.j        , -0.18744922+0.38979766j,\n",
       "         -0.18744922-0.38979766j],\n",
       "        [ 0.37541841+0.j        , -0.12038675-0.56209234j,\n",
       "         -0.12038675+0.56209234j],\n",
       "        [ 0.75511076+0.j        ,  0.69460766+0.j        ,\n",
       "          0.69460766-0.j        ]]))"
      ]
     },
     "execution_count": 12,
     "metadata": {},
     "output_type": "execute_result"
    }
   ],
   "source": [
    "np.linalg.eig(B)"
   ]
  },
  {
   "cell_type": "code",
   "execution_count": 13,
   "id": "e0de77fc",
   "metadata": {},
   "outputs": [
    {
     "data": {
      "text/plain": [
       "array([11.89743928+0.j        ,  1.05128036+2.62292225j,\n",
       "        1.05128036-2.62292225j])"
      ]
     },
     "execution_count": 13,
     "metadata": {},
     "output_type": "execute_result"
    }
   ],
   "source": [
    "np.linalg.eigvals(A)"
   ]
  },
  {
   "cell_type": "code",
   "execution_count": 14,
   "id": "f6839e8b",
   "metadata": {},
   "outputs": [
    {
     "data": {
      "text/plain": [
       "array([130.8718321  +0.j        ,  11.56408395+28.85214475j,\n",
       "        11.56408395-28.85214475j])"
      ]
     },
     "execution_count": 14,
     "metadata": {},
     "output_type": "execute_result"
    }
   ],
   "source": [
    "np.linalg.eigvals(B)"
   ]
  },
  {
   "cell_type": "code",
   "execution_count": 15,
   "id": "d1b124e9",
   "metadata": {},
   "outputs": [
    {
     "data": {
      "text/plain": [
       "array([[ 0.03157895, -0.17894737,  0.12631579],\n",
       "       [ 0.2       ,  0.2       , -0.2       ],\n",
       "       [-0.22105263,  0.25263158,  0.11578947]])"
      ]
     },
     "execution_count": 15,
     "metadata": {},
     "output_type": "execute_result"
    }
   ],
   "source": [
    "np.linalg.inv(A)"
   ]
  },
  {
   "cell_type": "code",
   "execution_count": 16,
   "id": "ef742e0c",
   "metadata": {},
   "outputs": [
    {
     "data": {
      "text/plain": [
       "array([[ 0.00287081, -0.01626794,  0.01148325],\n",
       "       [ 0.01818182,  0.01818182, -0.01818182],\n",
       "       [-0.02009569,  0.02296651,  0.01052632]])"
      ]
     },
     "execution_count": 16,
     "metadata": {},
     "output_type": "execute_result"
    }
   ],
   "source": [
    "np.linalg.inv(B)"
   ]
  },
  {
   "cell_type": "markdown",
   "id": "7ddf4a87",
   "metadata": {},
   "source": [
    "# determinant"
   ]
  },
  {
   "cell_type": "code",
   "execution_count": 18,
   "id": "f7b42302",
   "metadata": {},
   "outputs": [
    {
     "data": {
      "text/plain": [
       "27.0"
      ]
     },
     "execution_count": 18,
     "metadata": {},
     "output_type": "execute_result"
    }
   ],
   "source": [
    "A = np.array([[7,5],[3,6]])\n",
    "np.linalg.det(A)"
   ]
  },
  {
   "cell_type": "markdown",
   "id": "43db3f45",
   "metadata": {},
   "source": [
    "# Inverse"
   ]
  },
  {
   "cell_type": "code",
   "execution_count": 19,
   "id": "5f63cc0e",
   "metadata": {},
   "outputs": [
    {
     "data": {
      "text/plain": [
       "array([[ 0.22222222, -0.18518519],\n",
       "       [-0.11111111,  0.25925926]])"
      ]
     },
     "execution_count": 19,
     "metadata": {},
     "output_type": "execute_result"
    }
   ],
   "source": [
    "A = np.array([[7,5],[3,6]])\n",
    "np.linalg.inv(A)"
   ]
  },
  {
   "cell_type": "code",
   "execution_count": null,
   "id": "9df7c0fb",
   "metadata": {},
   "outputs": [],
   "source": []
  }
 ],
 "metadata": {
  "kernelspec": {
   "display_name": "Python 3",
   "language": "python",
   "name": "python3"
  },
  "language_info": {
   "codemirror_mode": {
    "name": "ipython",
    "version": 3
   },
   "file_extension": ".py",
   "mimetype": "text/x-python",
   "name": "python",
   "nbconvert_exporter": "python",
   "pygments_lexer": "ipython3",
   "version": "3.8.8"
  }
 },
 "nbformat": 4,
 "nbformat_minor": 5
}
