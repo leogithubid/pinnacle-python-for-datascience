{
 "cells": [
  {
   "cell_type": "code",
   "execution_count": 2,
   "id": "08107849",
   "metadata": {},
   "outputs": [
    {
     "ename": "UFuncTypeError",
     "evalue": "ufunc 'add' did not contain a loop with signature matching types (dtype('<U21'), dtype('<U21')) -> dtype('<U21')",
     "output_type": "error",
     "traceback": [
      "\u001b[0;31m---------------------------------------------------------------------------\u001b[0m",
      "\u001b[0;31mUFuncTypeError\u001b[0m                            Traceback (most recent call last)",
      "\u001b[0;32m<ipython-input-2-0de906cf0fae>\u001b[0m in \u001b[0;36m<module>\u001b[0;34m\u001b[0m\n\u001b[1;32m      1\u001b[0m \u001b[0;32mimport\u001b[0m \u001b[0mnumpy\u001b[0m \u001b[0;32mas\u001b[0m \u001b[0mnp\u001b[0m\u001b[0;34m\u001b[0m\u001b[0;34m\u001b[0m\u001b[0m\n\u001b[1;32m      2\u001b[0m \u001b[0mnumpy_array_with_words\u001b[0m \u001b[0;34m=\u001b[0m \u001b[0mnp\u001b[0m\u001b[0;34m.\u001b[0m\u001b[0marray\u001b[0m\u001b[0;34m(\u001b[0m\u001b[0;34m[\u001b[0m\u001b[0;36m2\u001b[0m\u001b[0;34m,\u001b[0m\u001b[0;34m\"Orange\"\u001b[0m\u001b[0;34m,\u001b[0m\u001b[0;34m\"Mango\"\u001b[0m\u001b[0;34m,\u001b[0m\u001b[0;36m1\u001b[0m\u001b[0;34m]\u001b[0m\u001b[0;34m)\u001b[0m \u001b[0;31m#Line1\u001b[0m\u001b[0;34m\u001b[0m\u001b[0;34m\u001b[0m\u001b[0m\n\u001b[0;32m----> 3\u001b[0;31m \u001b[0mnumpy_array_with_words\u001b[0m \u001b[0;34m+=\u001b[0m \u001b[0;36m1\u001b[0m \u001b[0;31m#Line2\u001b[0m\u001b[0;34m\u001b[0m\u001b[0;34m\u001b[0m\u001b[0m\n\u001b[0m",
      "\u001b[0;31mUFuncTypeError\u001b[0m: ufunc 'add' did not contain a loop with signature matching types (dtype('<U21'), dtype('<U21')) -> dtype('<U21')"
     ]
    }
   ],
   "source": [
    "import numpy as np\n",
    "numpy_array_with_words = np.array([2,\"Orange\",\"Mango\",1]) #Line1\n",
    "numpy_array_with_words += 1 #Line2"
   ]
  },
  {
   "cell_type": "code",
   "execution_count": 3,
   "id": "ec4a9a19",
   "metadata": {},
   "outputs": [
    {
     "data": {
      "text/plain": [
       "array([False, False,  True,  True])"
      ]
     },
     "execution_count": 3,
     "metadata": {},
     "output_type": "execute_result"
    }
   ],
   "source": [
    "import numpy as np\n",
    "marks = np.array([78,80,88,82])\n",
    "marks > 80"
   ]
  },
  {
   "cell_type": "code",
   "execution_count": 6,
   "id": "f0cf4c1a",
   "metadata": {},
   "outputs": [
    {
     "name": "stdout",
     "output_type": "stream",
     "text": [
      "1\n"
     ]
    }
   ],
   "source": [
    "import numpy as np\n",
    "fib_array = np.array([0,1,1,2,3,5,8,13,21])\n",
    "final_val = fib_array[1] + fib_array[0] * fib_array[-1]\n",
    "print(final_val)"
   ]
  },
  {
   "cell_type": "code",
   "execution_count": 7,
   "id": "4c7e9e65",
   "metadata": {},
   "outputs": [
    {
     "data": {
      "text/plain": [
       "array(['A', '1', 'B', '2', 'C', '3'], dtype='<U21')"
      ]
     },
     "execution_count": 7,
     "metadata": {},
     "output_type": "execute_result"
    }
   ],
   "source": [
    "#array(['A','1','B','2','C','3'],dtype = '<U1')\n",
    "multi_val_array = np.array([\"A\",1,\"B\",2,\"C\",3,\"D\",4,\"E\",5])\n",
    "multi_val_array[0:6]"
   ]
  },
  {
   "cell_type": "code",
   "execution_count": null,
   "id": "d7af120b",
   "metadata": {},
   "outputs": [],
   "source": []
  }
 ],
 "metadata": {
  "kernelspec": {
   "display_name": "Python 3",
   "language": "python",
   "name": "python3"
  },
  "language_info": {
   "codemirror_mode": {
    "name": "ipython",
    "version": 3
   },
   "file_extension": ".py",
   "mimetype": "text/x-python",
   "name": "python",
   "nbconvert_exporter": "python",
   "pygments_lexer": "ipython3",
   "version": "3.8.8"
  }
 },
 "nbformat": 4,
 "nbformat_minor": 5
}
