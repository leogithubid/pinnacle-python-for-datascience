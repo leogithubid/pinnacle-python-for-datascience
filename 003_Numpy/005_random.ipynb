{
 "cells": [
  {
   "cell_type": "code",
   "execution_count": 1,
   "id": "67a93d77",
   "metadata": {},
   "outputs": [],
   "source": [
    "import numpy as np"
   ]
  },
  {
   "cell_type": "markdown",
   "id": "4854160a",
   "metadata": {},
   "source": [
    "# randint"
   ]
  },
  {
   "cell_type": "code",
   "execution_count": 3,
   "id": "8adfec68",
   "metadata": {},
   "outputs": [
    {
     "data": {
      "text/plain": [
       "2"
      ]
     },
     "execution_count": 3,
     "metadata": {},
     "output_type": "execute_result"
    }
   ],
   "source": [
    "np.random.randint(4)"
   ]
  },
  {
   "cell_type": "code",
   "execution_count": 5,
   "id": "79efeb23",
   "metadata": {},
   "outputs": [
    {
     "data": {
      "text/plain": [
       "1"
      ]
     },
     "execution_count": 5,
     "metadata": {},
     "output_type": "execute_result"
    }
   ],
   "source": [
    "np.random.randint(-4,4)"
   ]
  },
  {
   "cell_type": "code",
   "execution_count": 6,
   "id": "7718af53",
   "metadata": {},
   "outputs": [
    {
     "data": {
      "text/plain": [
       "array([[[  9,   0,  -3],\n",
       "        [  9, -10,   7],\n",
       "        [ -9,   7,   2]],\n",
       "\n",
       "       [[  8,  -2,  -1],\n",
       "        [ -6,   4,   6],\n",
       "        [  3,   0,   2]],\n",
       "\n",
       "       [[  0,   9,   6],\n",
       "        [ -3,   9,   0],\n",
       "        [ -9,   6,   2]]])"
      ]
     },
     "execution_count": 6,
     "metadata": {},
     "output_type": "execute_result"
    }
   ],
   "source": [
    "np.random.randint(-10,10,(3,3,3))"
   ]
  },
  {
   "cell_type": "markdown",
   "id": "a771ef5d",
   "metadata": {},
   "source": [
    "# rand"
   ]
  },
  {
   "cell_type": "code",
   "execution_count": 7,
   "id": "2993f95b",
   "metadata": {},
   "outputs": [
    {
     "data": {
      "text/plain": [
       "array([0.96710023, 0.91310602, 0.15900964])"
      ]
     },
     "execution_count": 7,
     "metadata": {},
     "output_type": "execute_result"
    }
   ],
   "source": [
    "np.random.rand(3)"
   ]
  },
  {
   "cell_type": "code",
   "execution_count": 8,
   "id": "2752a013",
   "metadata": {},
   "outputs": [
    {
     "data": {
      "text/plain": [
       "array([[0.07437117, 0.70170492, 0.00742145],\n",
       "       [0.22951438, 0.07926201, 0.93432242],\n",
       "       [0.00136546, 0.39502485, 0.45349714]])"
      ]
     },
     "execution_count": 8,
     "metadata": {},
     "output_type": "execute_result"
    }
   ],
   "source": [
    "np.random.rand(3,3)"
   ]
  },
  {
   "cell_type": "code",
   "execution_count": 9,
   "id": "72fc25b8",
   "metadata": {},
   "outputs": [
    {
     "data": {
      "text/plain": [
       "array([[[0.59797276, 0.42838694, 0.28465062],\n",
       "        [0.50061454, 0.11427486, 0.11390831],\n",
       "        [0.80330691, 0.32371524, 0.86806007]],\n",
       "\n",
       "       [[0.9628618 , 0.77573017, 0.74472231],\n",
       "        [0.3708148 , 0.71807708, 0.98331352],\n",
       "        [0.91477742, 0.2181074 , 0.25041642]],\n",
       "\n",
       "       [[0.44771114, 0.64102789, 0.25292141],\n",
       "        [0.02588306, 0.51698848, 0.54358616],\n",
       "        [0.1816599 , 0.50049085, 0.47044435]]])"
      ]
     },
     "execution_count": 9,
     "metadata": {},
     "output_type": "execute_result"
    }
   ],
   "source": [
    "np.random.rand(3,3,3)"
   ]
  },
  {
   "cell_type": "markdown",
   "id": "dcfc815b",
   "metadata": {},
   "source": [
    "# randn"
   ]
  },
  {
   "cell_type": "code",
   "execution_count": 10,
   "id": "452b7db6",
   "metadata": {},
   "outputs": [
    {
     "data": {
      "text/plain": [
       "array([-0.08191205, -0.04296147, -0.22608303])"
      ]
     },
     "execution_count": 10,
     "metadata": {},
     "output_type": "execute_result"
    }
   ],
   "source": [
    "np.random.randn(3)"
   ]
  },
  {
   "cell_type": "code",
   "execution_count": 11,
   "id": "e2dd20a9",
   "metadata": {},
   "outputs": [
    {
     "data": {
      "text/plain": [
       "array([[ 0.40551293,  0.30555625],\n",
       "       [-1.14179451, -1.01150162]])"
      ]
     },
     "execution_count": 11,
     "metadata": {},
     "output_type": "execute_result"
    }
   ],
   "source": [
    "np.random.randn(2,2)"
   ]
  },
  {
   "cell_type": "code",
   "execution_count": 17,
   "id": "07c40842",
   "metadata": {},
   "outputs": [],
   "source": [
    "randn_array = np.random.rand(3,3)"
   ]
  },
  {
   "cell_type": "code",
   "execution_count": 18,
   "id": "7d09b2e8",
   "metadata": {},
   "outputs": [
    {
     "data": {
      "text/plain": [
       "array([[0.73945547, 0.70925177, 0.28988117],\n",
       "       [0.79804627, 0.97067223, 0.23126191],\n",
       "       [0.22466882, 0.79737434, 0.1105935 ]])"
      ]
     },
     "execution_count": 18,
     "metadata": {},
     "output_type": "execute_result"
    }
   ],
   "source": [
    "randn_array"
   ]
  },
  {
   "cell_type": "markdown",
   "id": "f92cb7c0",
   "metadata": {},
   "source": [
    "# seaborn"
   ]
  },
  {
   "cell_type": "code",
   "execution_count": 12,
   "id": "d72dfac2",
   "metadata": {},
   "outputs": [],
   "source": [
    "import seaborn as sns"
   ]
  },
  {
   "cell_type": "code",
   "execution_count": 19,
   "id": "e19ba77b",
   "metadata": {},
   "outputs": [
    {
     "data": {
      "text/plain": [
       "<seaborn.axisgrid.FacetGrid at 0x7f8186342820>"
      ]
     },
     "execution_count": 19,
     "metadata": {},
     "output_type": "execute_result"
    },
    {
     "data": {
      "image/png": "[encoded data removed]",
      "text/plain": [
       "<Figure size 402.375x360 with 1 Axes>"
      ]
     },
     "metadata": {
      "needs_background": "light"
     },
     "output_type": "display_data"
    }
   ],
   "source": [
    "sns.displot(randn_array)"
   ]
  },
  {
   "cell_type": "code",
   "execution_count": 20,
   "id": "e63f89d4",
   "metadata": {},
   "outputs": [],
   "source": [
    "new_random_array = np.random.randn(1000)"
   ]
  },
  {
   "cell_type": "code",
   "execution_count": 21,
   "id": "e6cdd1a6",
   "metadata": {},
   "outputs": [
    {
     "data": {
      "text/plain": [
       "<seaborn.axisgrid.FacetGrid at 0x7f818a0140a0>"
      ]
     },
     "execution_count": 21,
     "metadata": {},
     "output_type": "execute_result"
    },
    {
     "data": {
      "image/png": "[encoded data removed]",
      "text/plain": [
       "<Figure size 360x360 with 1 Axes>"
      ]
     },
     "metadata": {
      "needs_background": "light"
     },
     "output_type": "display_data"
    }
   ],
   "source": [
    "sns.displot(new_random_array)"
   ]
  },
  {
   "cell_type": "code",
   "execution_count": 22,
   "id": "965d606f",
   "metadata": {},
   "outputs": [
    {
     "name": "stderr",
     "output_type": "stream",
     "text": [
      "/opt/anaconda3/lib/python3.8/site-packages/seaborn/distributions.py:2557: FutureWarning: `distplot` is a deprecated function and will be removed in a future version. Please adapt your code to use either `displot` (a figure-level function with similar flexibility) or `histplot` (an axes-level function for histograms).\n",
      "  warnings.warn(msg, FutureWarning)\n"
     ]
    },
    {
     "data": {
      "text/plain": [
       "<AxesSubplot:ylabel='Density'>"
      ]
     },
     "execution_count": 22,
     "metadata": {},
     "output_type": "execute_result"
    },
    {
     "data": {
      "image/png": "[encoded data removed]",
      "text/plain": [
       "<Figure size 432x288 with 1 Axes>"
      ]
     },
     "metadata": {
      "needs_background": "light"
     },
     "output_type": "display_data"
    }
   ],
   "source": [
    "sns.distplot(new_random_array)"
   ]
  },
  {
   "cell_type": "code",
   "execution_count": 23,
   "id": "772df213",
   "metadata": {},
   "outputs": [],
   "source": [
    "shape_array = np.random.randint(0,10,4)"
   ]
  },
  {
   "cell_type": "code",
   "execution_count": 24,
   "id": "54dc6636",
   "metadata": {},
   "outputs": [
    {
     "data": {
      "text/plain": [
       "(4,)"
      ]
     },
     "execution_count": 24,
     "metadata": {},
     "output_type": "execute_result"
    }
   ],
   "source": [
    "shape_array.shape"
   ]
  },
  {
   "cell_type": "code",
   "execution_count": null,
   "id": "b76cdfcb",
   "metadata": {},
   "outputs": [],
   "source": []
  }
 ],
 "metadata": {
  "kernelspec": {
   "display_name": "Python 3",
   "language": "python",
   "name": "python3"
  },
  "language_info": {
   "codemirror_mode": {
    "name": "ipython",
    "version": 3
   },
   "file_extension": ".py",
   "mimetype": "text/x-python",
   "name": "python",
   "nbconvert_exporter": "python",
   "pygments_lexer": "ipython3",
   "version": "3.8.8"
  }
 },
 "nbformat": 4,
 "nbformat_minor": 5
}
