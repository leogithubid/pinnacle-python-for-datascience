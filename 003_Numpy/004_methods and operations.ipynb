{
 "cells": [
  {
   "cell_type": "code",
   "execution_count": 3,
   "id": "118af8a6",
   "metadata": {},
   "outputs": [],
   "source": [
    "import numpy as np"
   ]
  },
  {
   "cell_type": "code",
   "execution_count": 7,
   "id": "00ee23fb",
   "metadata": {},
   "outputs": [],
   "source": [
    "array_with_linspace = np.linspace(1,10,5)"
   ]
  },
  {
   "cell_type": "code",
   "execution_count": 8,
   "id": "cde75b0d",
   "metadata": {},
   "outputs": [
    {
     "data": {
      "text/plain": [
       "array([ 1.  ,  3.25,  5.5 ,  7.75, 10.  ])"
      ]
     },
     "execution_count": 8,
     "metadata": {},
     "output_type": "execute_result"
    }
   ],
   "source": [
    "array_with_linspace"
   ]
  },
  {
   "cell_type": "code",
   "execution_count": 9,
   "id": "8a752ffa",
   "metadata": {},
   "outputs": [
    {
     "data": {
      "text/plain": [
       "numpy.ndarray"
      ]
     },
     "execution_count": 9,
     "metadata": {},
     "output_type": "execute_result"
    }
   ],
   "source": [
    "type(array_with_linspace)"
   ]
  },
  {
   "cell_type": "code",
   "execution_count": 11,
   "id": "02c71038",
   "metadata": {},
   "outputs": [],
   "source": [
    "array_with_arange = np.arange(1,10,5)"
   ]
  },
  {
   "cell_type": "code",
   "execution_count": 12,
   "id": "e82b934f",
   "metadata": {},
   "outputs": [
    {
     "data": {
      "text/plain": [
       "array([1, 6])"
      ]
     },
     "execution_count": 12,
     "metadata": {},
     "output_type": "execute_result"
    }
   ],
   "source": [
    "array_with_arange"
   ]
  },
  {
   "cell_type": "code",
   "execution_count": 13,
   "id": "709f9a9f",
   "metadata": {},
   "outputs": [],
   "source": [
    "array_with_arange = np.arange(1,10,0.5)"
   ]
  },
  {
   "cell_type": "code",
   "execution_count": 14,
   "id": "1aa1c469",
   "metadata": {},
   "outputs": [
    {
     "data": {
      "text/plain": [
       "array([1. , 1.5, 2. , 2.5, 3. , 3.5, 4. , 4.5, 5. , 5.5, 6. , 6.5, 7. ,\n",
       "       7.5, 8. , 8.5, 9. , 9.5])"
      ]
     },
     "execution_count": 14,
     "metadata": {},
     "output_type": "execute_result"
    }
   ],
   "source": [
    "array_with_arange"
   ]
  },
  {
   "cell_type": "code",
   "execution_count": 15,
   "id": "6bdb5b9b",
   "metadata": {},
   "outputs": [],
   "source": [
    "zeros_array = np.zeros((2,3))"
   ]
  },
  {
   "cell_type": "code",
   "execution_count": 16,
   "id": "4a43f780",
   "metadata": {},
   "outputs": [
    {
     "data": {
      "text/plain": [
       "array([[0., 0., 0.],\n",
       "       [0., 0., 0.]])"
      ]
     },
     "execution_count": 16,
     "metadata": {},
     "output_type": "execute_result"
    }
   ],
   "source": [
    "zeros_array"
   ]
  },
  {
   "cell_type": "code",
   "execution_count": 17,
   "id": "4792ba5a",
   "metadata": {},
   "outputs": [],
   "source": [
    "ones_array = np.ones((2,3))"
   ]
  },
  {
   "cell_type": "code",
   "execution_count": 18,
   "id": "40c0d520",
   "metadata": {},
   "outputs": [
    {
     "data": {
      "text/plain": [
       "array([[1., 1., 1.],\n",
       "       [1., 1., 1.]])"
      ]
     },
     "execution_count": 18,
     "metadata": {},
     "output_type": "execute_result"
    }
   ],
   "source": [
    "ones_array"
   ]
  },
  {
   "cell_type": "code",
   "execution_count": 19,
   "id": "0fab165d",
   "metadata": {},
   "outputs": [],
   "source": [
    "identity_array = np.eye(3)"
   ]
  },
  {
   "cell_type": "code",
   "execution_count": 20,
   "id": "99b5141f",
   "metadata": {},
   "outputs": [
    {
     "data": {
      "text/plain": [
       "array([[1., 0., 0.],\n",
       "       [0., 1., 0.],\n",
       "       [0., 0., 1.]])"
      ]
     },
     "execution_count": 20,
     "metadata": {},
     "output_type": "execute_result"
    }
   ],
   "source": [
    "identity_array"
   ]
  },
  {
   "cell_type": "code",
   "execution_count": 21,
   "id": "add1bece",
   "metadata": {},
   "outputs": [
    {
     "data": {
      "text/plain": [
       "array([1., 1., 1.])"
      ]
     },
     "execution_count": 21,
     "metadata": {},
     "output_type": "execute_result"
    }
   ],
   "source": [
    "np.diag(identity_array)"
   ]
  },
  {
   "cell_type": "markdown",
   "id": "cd7eaa6f",
   "metadata": {},
   "source": [
    "Arithmetic operations"
   ]
  },
  {
   "cell_type": "code",
   "execution_count": 22,
   "id": "5b8abe7b",
   "metadata": {},
   "outputs": [],
   "source": [
    "A = np.array([\n",
    "    [1,2],\n",
    "    [3,4]\n",
    "])"
   ]
  },
  {
   "cell_type": "code",
   "execution_count": 23,
   "id": "a0bcfb4c",
   "metadata": {},
   "outputs": [],
   "source": [
    "B = np.array([\n",
    "    [11,22],\n",
    "    [33,44]\n",
    "])"
   ]
  },
  {
   "cell_type": "code",
   "execution_count": 24,
   "id": "747df444",
   "metadata": {},
   "outputs": [
    {
     "data": {
      "text/plain": [
       "array([[12, 24],\n",
       "       [36, 48]])"
      ]
     },
     "execution_count": 24,
     "metadata": {},
     "output_type": "execute_result"
    }
   ],
   "source": [
    "A+B"
   ]
  },
  {
   "cell_type": "code",
   "execution_count": 25,
   "id": "d50a5737",
   "metadata": {},
   "outputs": [
    {
     "data": {
      "text/plain": [
       "array([[ 11,  44],\n",
       "       [ 99, 176]])"
      ]
     },
     "execution_count": 25,
     "metadata": {},
     "output_type": "execute_result"
    }
   ],
   "source": [
    "A*B"
   ]
  },
  {
   "cell_type": "code",
   "execution_count": 26,
   "id": "675b553d",
   "metadata": {},
   "outputs": [
    {
     "data": {
      "text/plain": [
       "array([[-10, -20],\n",
       "       [-30, -40]])"
      ]
     },
     "execution_count": 26,
     "metadata": {},
     "output_type": "execute_result"
    }
   ],
   "source": [
    "A-B"
   ]
  },
  {
   "cell_type": "code",
   "execution_count": 27,
   "id": "1f29d911",
   "metadata": {},
   "outputs": [
    {
     "data": {
      "text/plain": [
       "array([[11., 11.],\n",
       "       [11., 11.]])"
      ]
     },
     "execution_count": 27,
     "metadata": {},
     "output_type": "execute_result"
    }
   ],
   "source": [
    "B/A"
   ]
  },
  {
   "cell_type": "code",
   "execution_count": 28,
   "id": "b5d26ffd",
   "metadata": {},
   "outputs": [
    {
     "data": {
      "text/plain": [
       "array([[12, 24],\n",
       "       [36, 48]])"
      ]
     },
     "execution_count": 28,
     "metadata": {},
     "output_type": "execute_result"
    }
   ],
   "source": [
    "np.add(A,B)"
   ]
  },
  {
   "cell_type": "code",
   "execution_count": 30,
   "id": "00a90ba6",
   "metadata": {},
   "outputs": [
    {
     "data": {
      "text/plain": [
       "array([[-10, -20],\n",
       "       [-30, -40]])"
      ]
     },
     "execution_count": 30,
     "metadata": {},
     "output_type": "execute_result"
    }
   ],
   "source": [
    "np.subtract(A,B)"
   ]
  },
  {
   "cell_type": "code",
   "execution_count": 31,
   "id": "b7550cc3",
   "metadata": {},
   "outputs": [
    {
     "data": {
      "text/plain": [
       "array([[ 11,  44],\n",
       "       [ 99, 176]])"
      ]
     },
     "execution_count": 31,
     "metadata": {},
     "output_type": "execute_result"
    }
   ],
   "source": [
    "np.multiply(A,B)"
   ]
  },
  {
   "cell_type": "code",
   "execution_count": 32,
   "id": "81804f45",
   "metadata": {},
   "outputs": [
    {
     "data": {
      "text/plain": [
       "array([[11., 11.],\n",
       "       [11., 11.]])"
      ]
     },
     "execution_count": 32,
     "metadata": {},
     "output_type": "execute_result"
    }
   ],
   "source": [
    "np.divide(B,A)"
   ]
  },
  {
   "cell_type": "code",
   "execution_count": 33,
   "id": "628f39d1",
   "metadata": {},
   "outputs": [
    {
     "name": "stdout",
     "output_type": "stream",
     "text": [
      "[1.]\n",
      "[ 1.   2.8  4.6  6.4  8.2 10. ]\n"
     ]
    }
   ],
   "source": [
    "for i in np.arange(1,10,5):\n",
    "    print(np.linspace(1,10,i))"
   ]
  },
  {
   "cell_type": "code",
   "execution_count": 34,
   "id": "684dc4ac",
   "metadata": {},
   "outputs": [
    {
     "data": {
      "text/plain": [
       "array([1., 1.])"
      ]
     },
     "execution_count": 34,
     "metadata": {},
     "output_type": "execute_result"
    }
   ],
   "source": [
    "np.diag(np.ones((2,3)))"
   ]
  },
  {
   "cell_type": "code",
   "execution_count": null,
   "id": "ade497f1",
   "metadata": {},
   "outputs": [],
   "source": []
  }
 ],
 "metadata": {
  "kernelspec": {
   "display_name": "Python 3",
   "language": "python",
   "name": "python3"
  },
  "language_info": {
   "codemirror_mode": {
    "name": "ipython",
    "version": 3
   },
   "file_extension": ".py",
   "mimetype": "text/x-python",
   "name": "python",
   "nbconvert_exporter": "python",
   "pygments_lexer": "ipython3",
   "version": "3.8.8"
  }
 },
 "nbformat": 4,
 "nbformat_minor": 5
}
