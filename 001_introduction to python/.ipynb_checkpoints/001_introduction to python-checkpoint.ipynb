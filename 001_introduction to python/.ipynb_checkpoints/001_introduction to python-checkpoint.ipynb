{
 "cells": [
  {
   "cell_type": "code",
   "execution_count": 1,
   "id": "c3cd1607",
   "metadata": {},
   "outputs": [
    {
     "name": "stdout",
     "output_type": "stream",
     "text": [
      "[10, 20, 30, 40, 50, 25]\n"
     ]
    }
   ],
   "source": [
    "list1 = [10,20,30,40,50]\n",
    "list1.insert(7,25)\n",
    "print(list1)"
   ]
  },
  {
   "cell_type": "markdown",
   "id": "666c2468",
   "metadata": {},
   "source": [
    "1-new entries inserted "
   ]
  },
  {
   "cell_type": "code",
   "execution_count": null,
   "id": "88cdf7a5",
   "metadata": {},
   "outputs": [],
   "source": [
    "2-only inside function it adds new entries - pass by value/ "
   ]
  },
  {
   "cell_type": "code",
   "execution_count": 2,
   "id": "69853d0e",
   "metadata": {},
   "outputs": [
    {
     "name": "stdout",
     "output_type": "stream",
     "text": [
      "before function call: [10, 20, 30, 40, 50]\n",
      "inside function: [10, 20, 30, 40, 50, 60, 70, 80]\n",
      "after function call: [10, 20, 30, 40, 50]\n"
     ]
    }
   ],
   "source": [
    "def modify_list(arg_list):\n",
    "    arg_list = arg_list + [60,70,80]\n",
    "    print(\"inside function:\", arg_list)\n",
    "i_list = [10,20,30,40,50]\n",
    "print(\"before function call:\",i_list)\n",
    "modify_list(i_list)\n",
    "print(\"after function call:\",i_list)"
   ]
  },
  {
   "cell_type": "markdown",
   "id": "e51ae3c9",
   "metadata": {},
   "source": [
    "3-for loop demo"
   ]
  },
  {
   "cell_type": "code",
   "execution_count": 4,
   "id": "b7855e69",
   "metadata": {},
   "outputs": [
    {
     "name": "stdout",
     "output_type": "stream",
     "text": [
      "[0, 0, 2, 6, 12]\n"
     ]
    }
   ],
   "source": [
    "my_list = [0] * 5\n",
    "for index in range(1,5):\n",
    "    my_list[index] = (index - 1) * index\n",
    "print(my_list)"
   ]
  },
  {
   "cell_type": "markdown",
   "id": "5e9821d8",
   "metadata": {},
   "source": [
    "4-file operations"
   ]
  },
  {
   "cell_type": "code",
   "execution_count": 5,
   "id": "0b401b68",
   "metadata": {},
   "outputs": [
    {
     "name": "stdout",
     "output_type": "stream",
     "text": [
      "18\n",
      "closed? False\n",
      "closed? True\n"
     ]
    }
   ],
   "source": [
    "FHW=open(\"data.txt\",\"w\")\n",
    "FHW.write(\"written some thing\")\n",
    "print(FHW.tell())\n",
    "print(\"closed?\",FHW.closed)\n",
    "FHW.close()\n",
    "print(\"closed?\",FHW.closed)"
   ]
  },
  {
   "cell_type": "markdown",
   "id": "0240fed8",
   "metadata": {},
   "source": [
    "5-set contains only unique values"
   ]
  },
  {
   "cell_type": "code",
   "execution_count": 11,
   "id": "8f6e8d07",
   "metadata": {},
   "outputs": [
    {
     "name": "stdout",
     "output_type": "stream",
     "text": [
      "012345678"
     ]
    }
   ],
   "source": [
    "set_1={1,2,3,1,2,4,5,3,4,8,9,7,10}\n",
    "for index in range(len(set_1)):\n",
    "    print(index,end=\"\")"
   ]
  },
  {
   "cell_type": "markdown",
   "id": "736e6bdb",
   "metadata": {},
   "source": [
    "6-while loop"
   ]
  },
  {
   "cell_type": "code",
   "execution_count": 13,
   "id": "6c0e2748",
   "metadata": {},
   "outputs": [
    {
     "name": "stdout",
     "output_type": "stream",
     "text": [
      "[10, 8, 6, 4, 2]\n"
     ]
    }
   ],
   "source": [
    "def value(num1):\n",
    "    list1=[]\n",
    "    while num1 != 0:\n",
    "        if num1 % 2 == 0 :\n",
    "            list1.append(num1)\n",
    "        else:\n",
    "            break\n",
    "        num1-= 2\n",
    "    print(list1)\n",
    "value(10)"
   ]
  },
  {
   "cell_type": "markdown",
   "id": "c0e92f6a",
   "metadata": {},
   "source": [
    "7 - dictionary name value pair\n",
    "\n",
    "? - How to debug ? "
   ]
  },
  {
   "cell_type": "code",
   "execution_count": 4,
   "id": "43349399",
   "metadata": {},
   "outputs": [
    {
     "name": "stdout",
     "output_type": "stream",
     "text": [
      "sum1= 0 ,\n",
      "value[i]= 2 ,\n",
      "sum1= 2 ,\n",
      "sum1= 2 ,\n",
      "i= 2 ,\n",
      "sum1= 0 ,\n",
      "sum1= 0 ,\n",
      "value[i]= 6 ,\n",
      "sum1= 6 ,\n",
      "sum1= 6 ,\n",
      "value[i]= 8 ,\n",
      "sum1= 14 ,\n",
      "14\n"
     ]
    }
   ],
   "source": [
    "def sample(value):\n",
    "    sum1 = 0\n",
    "    for i in value : \n",
    "        if i % 2 != 0:\n",
    "            print(\"sum1=\",sum1,\",\")\n",
    "            print(\"value[i]=\",value[i],\",\")\n",
    "            sum1+=value[i]\n",
    "            print(\"sum1=\",sum1,\",\")\n",
    "        else:\n",
    "            print(\"sum1=\",sum1,\",\")\n",
    "            print(\"i=\",i,\",\")\n",
    "            sum1-=i\n",
    "            print(\"sum1=\",sum1,\",\")\n",
    "    print(sum1)\n",
    "dict1={1:2,2:4,3:6,5:8}   \n",
    "sample(dict1)\n"
   ]
  },
  {
   "cell_type": "markdown",
   "id": "a458421f",
   "metadata": {},
   "source": [
    "8- tuple"
   ]
  },
  {
   "cell_type": "code",
   "execution_count": 6,
   "id": "968f935b",
   "metadata": {},
   "outputs": [
    {
     "name": "stdout",
     "output_type": "stream",
     "text": [
      "10\n",
      "<class 'int'>\n"
     ]
    }
   ],
   "source": [
    "tuple1=(10)\n",
    "print(tuple1)\n",
    "print(type(tuple1))"
   ]
  },
  {
   "cell_type": "markdown",
   "id": "944d98b6",
   "metadata": {},
   "source": [
    "9 - dictionary"
   ]
  },
  {
   "cell_type": "code",
   "execution_count": 7,
   "id": "061f7e93",
   "metadata": {},
   "outputs": [
    {
     "name": "stdout",
     "output_type": "stream",
     "text": [
      "apple boy cat\n"
     ]
    }
   ],
   "source": [
    "sample_dict = {'a':\"apple\",'b':\"ball\"}\n",
    "sample_dict.update({'b':\"boy\",'c':\"cat\"})\n",
    "print(sample_dict['a'],sample_dict['b'],sample_dict['c'])"
   ]
  },
  {
   "cell_type": "markdown",
   "id": "4dc58d8d",
   "metadata": {},
   "source": [
    "10 - exception handling with try except"
   ]
  },
  {
   "cell_type": "code",
   "execution_count": 10,
   "id": "f032ac33",
   "metadata": {},
   "outputs": [
    {
     "name": "stdout",
     "output_type": "stream",
     "text": [
      "Sum finally\n",
      "Invocation Name Error\n",
      "Invocation finally\n"
     ]
    }
   ],
   "source": [
    "def find_sum(a,b):\n",
    "        try:\n",
    "            print(a+c)\n",
    "        except ValueError:\n",
    "            print(\"function name error\")\n",
    "        finally:\n",
    "            print(\"Sum finally\")\n",
    "try:\n",
    "    find_sum(12,13)\n",
    "except NameError:\n",
    "    print(\"Invocation Name Error\")\n",
    "finally:\n",
    "    print(\"Invocation finally\")"
   ]
  },
  {
   "cell_type": "code",
   "execution_count": null,
   "id": "50fe9563",
   "metadata": {},
   "outputs": [],
   "source": []
  }
 ],
 "metadata": {
  "kernelspec": {
   "display_name": "Python 3",
   "language": "python",
   "name": "python3"
  },
  "language_info": {
   "codemirror_mode": {
    "name": "ipython",
    "version": 3
   },
   "file_extension": ".py",
   "mimetype": "text/x-python",
   "name": "python",
   "nbconvert_exporter": "python",
   "pygments_lexer": "ipython3",
   "version": "3.8.8"
  }
 },
 "nbformat": 4,
 "nbformat_minor": 5
}
